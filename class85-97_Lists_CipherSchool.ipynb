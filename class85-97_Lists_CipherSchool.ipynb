{
 "cells": [
  {
   "cell_type": "code",
   "execution_count": 1,
   "id": "81074939",
   "metadata": {},
   "outputs": [
    {
     "name": "stdout",
     "output_type": "stream",
     "text": [
      "[1, 2, 3, 'Mr.', 'Dang', 2.3]\n"
     ]
    }
   ],
   "source": [
    "list1 = [1,2,3,4,5]\n",
    "list2 = [\"Shrey\",\"Robot\",\"Machine\"]\n",
    "list3 = [1,2,3,\"Mr.\",\"Dang\",2.3]\n",
    "\n",
    "print(list3)"
   ]
  },
  {
   "cell_type": "code",
   "execution_count": 3,
   "id": "48492bb2",
   "metadata": {},
   "outputs": [
    {
     "name": "stdout",
     "output_type": "stream",
     "text": [
      "3\n",
      "['Shrey', 'Robot']\n"
     ]
    }
   ],
   "source": [
    "print(list1[2])\n",
    "print(list2[:2])"
   ]
  },
  {
   "cell_type": "code",
   "execution_count": 4,
   "id": "32052c06",
   "metadata": {},
   "outputs": [
    {
     "name": "stdout",
     "output_type": "stream",
     "text": [
      "['Apple', 'grapes', 'Mango']\n"
     ]
    }
   ],
   "source": [
    "# Adding item to list\n",
    "fruits = [\"Apple\",\"grapes\"]\n",
    "fruits.append(\"Mango\")\n",
    "print(fruits)"
   ]
  },
  {
   "cell_type": "code",
   "execution_count": 5,
   "id": "97a22d66",
   "metadata": {},
   "outputs": [
    {
     "name": "stdout",
     "output_type": "stream",
     "text": [
      "['Jackfruit', 'Orange', 'Mango']\n"
     ]
    }
   ],
   "source": [
    "fruits = [\"Jackfruit\",\"Mango\"]\n",
    "fruits.insert(1,\"Orange\")\n",
    "\n",
    "print(fruits)"
   ]
  },
  {
   "cell_type": "code",
   "execution_count": 7,
   "id": "119256b6",
   "metadata": {},
   "outputs": [
    {
     "name": "stdout",
     "output_type": "stream",
     "text": [
      "['Jackfruit', 'Orange', 'Mango', 'Aam', 'Watermelon', 'Aam', 'Watermelon']\n",
      "['Jackfruit', 'Orange', 'Mango', 'Aam', 'Watermelon', 'Aam', 'Watermelon', ['Aam', 'Watermelon']]\n"
     ]
    }
   ],
   "source": [
    "fruits2 = [\"Aam\",\"Watermelon\"]\n",
    "fruits.extend(fruits2)\n",
    "print(fruits)\n",
    "fruits.append(fruits2)\n",
    "print(fruits)"
   ]
  },
  {
   "cell_type": "code",
   "execution_count": 9,
   "id": "bec96f58",
   "metadata": {},
   "outputs": [
    {
     "name": "stdout",
     "output_type": "stream",
     "text": [
      "['Jackfruit', 'Mango', 'Aam', 'Watermelon', ['Aam', 'Watermelon']]\n"
     ]
    }
   ],
   "source": [
    "# remove elements from list\n",
    "fruits.pop(5)\n",
    "fruits.remove(\"Orange\")\n",
    "print(fruits)"
   ]
  },
  {
   "cell_type": "code",
   "execution_count": 10,
   "id": "7132e6ec",
   "metadata": {},
   "outputs": [
    {
     "name": "stdout",
     "output_type": "stream",
     "text": [
      "present\n"
     ]
    }
   ],
   "source": [
    "if \"Aam\" in fruits:\n",
    "    print(\"present\")"
   ]
  },
  {
   "cell_type": "code",
   "execution_count": 11,
   "id": "2c4d9e4e",
   "metadata": {},
   "outputs": [
    {
     "name": "stdout",
     "output_type": "stream",
     "text": [
      "1\n"
     ]
    }
   ],
   "source": [
    "print(fruits.count(\"Aam\"))"
   ]
  },
  {
   "cell_type": "code",
   "execution_count": 12,
   "id": "c858b248",
   "metadata": {},
   "outputs": [
    {
     "name": "stdout",
     "output_type": "stream",
     "text": [
      "[1, 2, 3, 4, 6, 7, 9]\n"
     ]
    }
   ],
   "source": [
    "numlist = [9,7,6,2,3,4,1]\n",
    "numlist.sort()\n",
    "print(numlist)\n",
    "\n",
    "# you can use sorted function just to print the sorted list"
   ]
  },
  {
   "cell_type": "code",
   "execution_count": 14,
   "id": "e9de01b1",
   "metadata": {},
   "outputs": [
    {
     "name": "stdout",
     "output_type": "stream",
     "text": [
      "Shrey\n",
      "24\n"
     ]
    }
   ],
   "source": [
    "# .split method and .join method\n",
    "name,age = \"Shrey,24\".split(\",\")\n",
    "print(name)\n",
    "print(age)"
   ]
  },
  {
   "cell_type": "code",
   "execution_count": 17,
   "id": "e744cec0",
   "metadata": {},
   "outputs": [
    {
     "name": "stdout",
     "output_type": "stream",
     "text": [
      "Mr.Robot\n"
     ]
    }
   ],
   "source": [
    "l1 = [\"Mr.\",\"Robot\"]\n",
    "print(\"\".join(l1))"
   ]
  },
  {
   "cell_type": "code",
   "execution_count": 18,
   "id": "bdbf5772",
   "metadata": {},
   "outputs": [
    {
     "name": "stdout",
     "output_type": "stream",
     "text": [
      "Jackfruit\n",
      "Mango\n",
      "Aam\n",
      "Watermelon\n",
      "['Aam', 'Watermelon']\n"
     ]
    }
   ],
   "source": [
    "# Looping inside list\n",
    "for fruit in fruits:\n",
    "    print(fruit)"
   ]
  },
  {
   "cell_type": "markdown",
   "id": "385dd37e",
   "metadata": {},
   "source": [
    "# List Inside List"
   ]
  },
  {
   "cell_type": "code",
   "execution_count": 19,
   "id": "90873e00",
   "metadata": {},
   "outputs": [
    {
     "name": "stdout",
     "output_type": "stream",
     "text": [
      "[1, 2, 3]\n",
      "[4, 5, 6]\n",
      "[7, 8, 9]\n"
     ]
    }
   ],
   "source": [
    "matrix = [[1,2,3],[4,5,6],[7,8,9]]\n",
    "\n",
    "for i in matrix:\n",
    "    print(i)"
   ]
  },
  {
   "cell_type": "code",
   "execution_count": 20,
   "id": "81be0d9b",
   "metadata": {},
   "outputs": [
    {
     "name": "stdout",
     "output_type": "stream",
     "text": [
      "1\n",
      "2\n",
      "3\n",
      "4\n",
      "5\n",
      "6\n",
      "7\n",
      "8\n",
      "9\n"
     ]
    }
   ],
   "source": [
    "for i in matrix:\n",
    "    for j in i:\n",
    "        print(j)"
   ]
  },
  {
   "cell_type": "code",
   "execution_count": 21,
   "id": "3b65ab1d",
   "metadata": {},
   "outputs": [
    {
     "name": "stdout",
     "output_type": "stream",
     "text": [
      "[0, 1, 2, 3, 4, 5, 6, 7, 8, 9, 10]\n"
     ]
    }
   ],
   "source": [
    "lis = list(range(0,11))\n",
    "print(lis)"
   ]
  },
  {
   "cell_type": "code",
   "execution_count": null,
   "id": "5f7f2a9c",
   "metadata": {},
   "outputs": [],
   "source": []
  }
 ],
 "metadata": {
  "kernelspec": {
   "display_name": "Python 3 (ipykernel)",
   "language": "python",
   "name": "python3"
  },
  "language_info": {
   "codemirror_mode": {
    "name": "ipython",
    "version": 3
   },
   "file_extension": ".py",
   "mimetype": "text/x-python",
   "name": "python",
   "nbconvert_exporter": "python",
   "pygments_lexer": "ipython3",
   "version": "3.9.12"
  }
 },
 "nbformat": 4,
 "nbformat_minor": 5
}
