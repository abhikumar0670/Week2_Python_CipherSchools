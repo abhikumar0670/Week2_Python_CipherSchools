{
 "cells": [
  {
   "cell_type": "code",
   "execution_count": 1,
   "id": "cc79ad4f",
   "metadata": {
    "scrolled": true
   },
   "outputs": [
    {
     "name": "stdout",
     "output_type": "stream",
     "text": [
      "Hello World\n",
      "Hello World\n",
      "Hello World\n",
      "Hello World\n",
      "Hello World\n",
      "Hello World\n",
      "Hello World\n",
      "Hello World\n",
      "Hello World\n",
      "Hello World\n"
     ]
    }
   ],
   "source": [
    "# For Loops with range function\n",
    "for i in range(10):\n",
    "    print(\"Hello World\")"
   ]
  },
  {
   "cell_type": "code",
   "execution_count": 2,
   "id": "25bd232e",
   "metadata": {},
   "outputs": [
    {
     "name": "stdout",
     "output_type": "stream",
     "text": [
      "Hello World 0\n",
      "Hello World 1\n",
      "Hello World 2\n",
      "Hello World 3\n",
      "Hello World 4\n",
      "Hello World 5\n",
      "Hello World 6\n",
      "Hello World 7\n",
      "Hello World 8\n",
      "Hello World 9\n"
     ]
    }
   ],
   "source": [
    "# For Loops with range function\n",
    "for i in range(10):\n",
    "    print(f\"Hello World {i}\")"
   ]
  },
  {
   "cell_type": "code",
   "execution_count": 5,
   "id": "14801d78",
   "metadata": {},
   "outputs": [
    {
     "name": "stdout",
     "output_type": "stream",
     "text": [
      "Enter the number10\n",
      "Sum of total numbers in range: 55\n"
     ]
    }
   ],
   "source": [
    "#Example 1\n",
    "n = int(input(\"Enter the number\"))\n",
    "total = 0\n",
    "for i in range(0,n+1):\n",
    "    total += i\n",
    "    \n",
    "print(\"Sum of total numbers in range:\",total)"
   ]
  },
  {
   "cell_type": "code",
   "execution_count": 6,
   "id": "394b13e6",
   "metadata": {},
   "outputs": [
    {
     "name": "stdout",
     "output_type": "stream",
     "text": [
      "1111\n",
      "Total of digits 4\n"
     ]
    }
   ],
   "source": [
    "#example 2\n",
    "n = input(\"Enter the number:\")\n",
    "total = 0\n",
    "for i in n:\n",
    "    total += int(i)\n",
    "    \n",
    "print(\"Total of digits:\",total)"
   ]
  },
  {
   "cell_type": "markdown",
   "id": "91204ac5",
   "metadata": {},
   "source": [
    "# Example 3"
   ]
  },
  {
   "cell_type": "code",
   "execution_count": 10,
   "id": "393a35e4",
   "metadata": {},
   "outputs": [
    {
     "name": "stdout",
     "output_type": "stream",
     "text": [
      "ss\n",
      "s : 2\n"
     ]
    }
   ],
   "source": [
    "name = input()\n",
    "temp = \"\"\n",
    "\n",
    "for i in range(len(name)):\n",
    "    if(name[i] not in temp):\n",
    "        print(f\"{name[i]} : {name.count(name[i])}\")\n",
    "        temp += name[i]"
   ]
  },
  {
   "cell_type": "code",
   "execution_count": 11,
   "id": "0cb48801",
   "metadata": {},
   "outputs": [
    {
     "name": "stdout",
     "output_type": "stream",
     "text": [
      "0\n",
      "1\n",
      "2\n",
      "3\n",
      "4\n"
     ]
    }
   ],
   "source": [
    "#Break and Continue\n",
    "for i in range(0,11):\n",
    "    if i == 5:\n",
    "        break\n",
    "    else:\n",
    "        print(i)"
   ]
  },
  {
   "cell_type": "code",
   "execution_count": 12,
   "id": "a33be956",
   "metadata": {},
   "outputs": [
    {
     "name": "stdout",
     "output_type": "stream",
     "text": [
      "0\n",
      "1\n",
      "2\n",
      "3\n",
      "4\n",
      "6\n",
      "7\n",
      "8\n",
      "9\n",
      "10\n"
     ]
    }
   ],
   "source": [
    "for i in range(0,11):\n",
    "    if i == 5:\n",
    "        continue\n",
    "    else:\n",
    "        print(i)"
   ]
  },
  {
   "cell_type": "code",
   "execution_count": null,
   "id": "38c97e6e",
   "metadata": {},
   "outputs": [],
   "source": []
  }
 ],
 "metadata": {
  "kernelspec": {
   "display_name": "Python 3 (ipykernel)",
   "language": "python",
   "name": "python3"
  },
  "language_info": {
   "codemirror_mode": {
    "name": "ipython",
    "version": 3
   },
   "file_extension": ".py",
   "mimetype": "text/x-python",
   "name": "python",
   "nbconvert_exporter": "python",
   "pygments_lexer": "ipython3",
   "version": "3.9.12"
  }
 },
 "nbformat": 4,
 "nbformat_minor": 5
}
