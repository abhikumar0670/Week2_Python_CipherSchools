{
 "cells": [
  {
   "cell_type": "code",
   "execution_count": 9,
   "id": "9c7f4e66",
   "metadata": {},
   "outputs": [
    {
     "name": "stdout",
     "output_type": "stream",
     "text": [
      "Guess the number:\n",
      "45\n",
      "You guessed it correct the number is 45, you guessed in 1 tries\n"
     ]
    }
   ],
   "source": [
    "import random\n",
    "winningnum = 45\n",
    "guesscount = 0\n",
    "num = 0\n",
    "while num != winningnum:\n",
    "    print(\"Guess the number:\")\n",
    "    num = int(input())\n",
    "    if(num > winningnum):\n",
    "        print(\"Too high\")\n",
    "        guesscount += 1\n",
    "    elif(num < winningnum):\n",
    "        print(\"Too Low\")\n",
    "        guesscount += 1\n",
    "    elif(num == winningnum):\n",
    "        guesscount += 1\n",
    "        num == winningnum\n",
    "        print(f\"You guessed it correct the number is {winningnum}, you guessed in {guesscount} tries\")\n",
    "    else:\n",
    "        continue"
   ]
  },
  {
   "cell_type": "code",
   "execution_count": null,
   "id": "575e91c5",
   "metadata": {},
   "outputs": [],
   "source": []
  }
 ],
 "metadata": {
  "kernelspec": {
   "display_name": "Python 3 (ipykernel)",
   "language": "python",
   "name": "python3"
  },
  "language_info": {
   "codemirror_mode": {
    "name": "ipython",
    "version": 3
   },
   "file_extension": ".py",
   "mimetype": "text/x-python",
   "name": "python",
   "nbconvert_exporter": "python",
   "pygments_lexer": "ipython3",
   "version": "3.9.12"
  }
 },
 "nbformat": 4,
 "nbformat_minor": 5
}
