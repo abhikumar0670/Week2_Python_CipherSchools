{
 "cells": [
  {
   "cell_type": "code",
   "execution_count": 1,
   "id": "123209e7",
   "metadata": {},
   "outputs": [
    {
     "name": "stdout",
     "output_type": "stream",
     "text": [
      "1\n",
      "2\n",
      "3\n",
      "4\n",
      "5\n"
     ]
    }
   ],
   "source": [
    "# tuples are immutable\n",
    "\n",
    "example = (\"one\",\"two\",\"three\")\n",
    "mixed = (1,2,3,4,5)\n",
    "\n",
    "for i in mixed:\n",
    "    print(i)"
   ]
  },
  {
   "cell_type": "code",
   "execution_count": 4,
   "id": "40606c97",
   "metadata": {},
   "outputs": [
    {
     "name": "stdout",
     "output_type": "stream",
     "text": [
      "<class 'tuple'>\n",
      "<class 'int'>\n"
     ]
    }
   ],
   "source": [
    "tup = (1,)\n",
    "tup2 = (1)\n",
    "print(type(tup))\n",
    "print(type(tup2))"
   ]
  },
  {
   "cell_type": "code",
   "execution_count": 5,
   "id": "45168846",
   "metadata": {},
   "outputs": [
    {
     "name": "stdout",
     "output_type": "stream",
     "text": [
      "15\n"
     ]
    }
   ],
   "source": [
    "print(sum(mixed))"
   ]
  },
  {
   "cell_type": "code",
   "execution_count": 6,
   "id": "4956b0f0",
   "metadata": {},
   "outputs": [],
   "source": [
    "# Function returning two values\n",
    "\n",
    "def func(a,b):\n",
    "    add = a+b\n",
    "    multi = a*b\n",
    "    return add,multi"
   ]
  },
  {
   "cell_type": "code",
   "execution_count": 7,
   "id": "1569dc38",
   "metadata": {},
   "outputs": [
    {
     "name": "stdout",
     "output_type": "stream",
     "text": [
      "(5, 6)\n"
     ]
    }
   ],
   "source": [
    "print(func(3,2))"
   ]
  },
  {
   "cell_type": "code",
   "execution_count": 9,
   "id": "2790feb2",
   "metadata": {},
   "outputs": [
    {
     "name": "stdout",
     "output_type": "stream",
     "text": [
      "(1, 2, 3, 4, 5, 6, 7, 8, 9, 10)\n"
     ]
    }
   ],
   "source": [
    "nums = tuple(range(1,11))\n",
    "print(nums)"
   ]
  },
  {
   "cell_type": "code",
   "execution_count": null,
   "id": "12f0248b",
   "metadata": {},
   "outputs": [],
   "source": [
    "# we can convert tuple to string or tuple to list"
   ]
  }
 ],
 "metadata": {
  "kernelspec": {
   "display_name": "Python 3 (ipykernel)",
   "language": "python",
   "name": "python3"
  },
  "language_info": {
   "codemirror_mode": {
    "name": "ipython",
    "version": 3
   },
   "file_extension": ".py",
   "mimetype": "text/x-python",
   "name": "python",
   "nbconvert_exporter": "python",
   "pygments_lexer": "ipython3",
   "version": "3.9.12"
  }
 },
 "nbformat": 4,
 "nbformat_minor": 5
}
