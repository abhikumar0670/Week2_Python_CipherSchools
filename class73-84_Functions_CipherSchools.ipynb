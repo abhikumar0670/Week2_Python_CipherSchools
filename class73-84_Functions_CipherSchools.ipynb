{
 "cells": [
  {
   "cell_type": "code",
   "execution_count": 1,
   "id": "2dc3e192",
   "metadata": {},
   "outputs": [],
   "source": [
    "# Functions\n",
    "\n",
    "def add(a,b):\n",
    "    return a+b"
   ]
  },
  {
   "cell_type": "code",
   "execution_count": 3,
   "id": "4d21abb1",
   "metadata": {},
   "outputs": [
    {
     "name": "stdout",
     "output_type": "stream",
     "text": [
      "10\n",
      "20\n",
      "30\n"
     ]
    }
   ],
   "source": [
    "a = int(input())\n",
    "b = int(input())\n",
    "print(add(a,b))"
   ]
  },
  {
   "cell_type": "code",
   "execution_count": 5,
   "id": "b01564bb",
   "metadata": {},
   "outputs": [
    {
     "name": "stdout",
     "output_type": "stream",
     "text": [
      "Name: Shreyas\n",
      "Last: Sawaier\n",
      "ShreyasSawaier\n"
     ]
    }
   ],
   "source": [
    "first = input(\"Name: \")\n",
    "last = input(\"Last: \")\n",
    "print(add(first,last))"
   ]
  },
  {
   "cell_type": "code",
   "execution_count": 6,
   "id": "aee7fed6",
   "metadata": {},
   "outputs": [],
   "source": [
    "#Functiona Practice"
   ]
  },
  {
   "cell_type": "code",
   "execution_count": 7,
   "id": "76d317df",
   "metadata": {},
   "outputs": [
    {
     "name": "stdout",
     "output_type": "stream",
     "text": [
      "5\n",
      "Odd\n"
     ]
    }
   ],
   "source": [
    "def odd_even(num):\n",
    "    if(num%2 == 0):\n",
    "        print(\"Even\")\n",
    "    else:\n",
    "        print(\"Odd\")\n",
    "        \n",
    "num = int(input())\n",
    "odd_even(num)"
   ]
  },
  {
   "cell_type": "code",
   "execution_count": 8,
   "id": "d44267b9",
   "metadata": {},
   "outputs": [
    {
     "name": "stdout",
     "output_type": "stream",
     "text": [
      "Enter num 1: 20\n",
      "Enter num 2: 30\n",
      "Enter num 3: 10\n",
      "30 :Is the greatest\n"
     ]
    }
   ],
   "source": [
    "#Greatest\n",
    "def greatest(a,b,c):\n",
    "    if(a > b and a > c):\n",
    "        return a\n",
    "    elif(b > c and b > a):\n",
    "        return b\n",
    "    else:\n",
    "        return c\n",
    "    \n",
    "a = int(input(\"Enter num 1: \"))\n",
    "b = int(input(\"Enter num 2: \"))\n",
    "c = int(input(\"Enter num 3: \"))\n",
    "\n",
    "print(greatest(a,b,c),\":Is the greatest\")"
   ]
  },
  {
   "cell_type": "code",
   "execution_count": 13,
   "id": "3a95e06a",
   "metadata": {},
   "outputs": [
    {
     "name": "stdout",
     "output_type": "stream",
     "text": [
      "C Great\n"
     ]
    }
   ],
   "source": [
    "# Using one function in another function\n",
    "def grater(a,b):\n",
    "    if(a>b):\n",
    "        return a\n",
    "    else:\n",
    "        return b\n",
    "\n",
    "def greatest2(a,c):\n",
    "    if a>c:\n",
    "        print(\"A great\")\n",
    "    else:\n",
    "        print(\"C Great\")\n",
    "\n",
    "a = 10\n",
    "b = 30\n",
    "c = 40\n",
    "\n",
    "greatest = greatest2(grater(a,b),c)"
   ]
  },
  {
   "cell_type": "markdown",
   "id": "a2164ce5",
   "metadata": {},
   "source": [
    "# Exercise 2"
   ]
  },
  {
   "cell_type": "code",
   "execution_count": 15,
   "id": "b92d4f55",
   "metadata": {},
   "outputs": [
    {
     "name": "stdout",
     "output_type": "stream",
     "text": [
      "False\n"
     ]
    }
   ],
   "source": [
    "def is_palindrome(string):\n",
    "    revstr = string[::-1]\n",
    "    \n",
    "    if(string == revstr):\n",
    "        return True\n",
    "    return False\n",
    "    \n",
    "word = \"Horse\"\n",
    "print(is_palindrome(word))"
   ]
  },
  {
   "cell_type": "markdown",
   "id": "04fb6379",
   "metadata": {},
   "source": [
    "# Fionnaci Series"
   ]
  },
  {
   "cell_type": "code",
   "execution_count": 2,
   "id": "289f0624",
   "metadata": {},
   "outputs": [],
   "source": [
    "def fibonacci(num):\n",
    "    firstnum = 0\n",
    "    secondnum = 1\n",
    "    if(num == 1):\n",
    "        print(firstnum)\n",
    "    elif(num == 2):\n",
    "        print(firstnum,secondnum)\n",
    "    else:\n",
    "        print(firstnum,secondnum,end=\" \")\n",
    "        for i in range(n-2):\n",
    "            total = firstnum+secondnum\n",
    "            firstnum = secondnum\n",
    "            secondnum = total\n",
    "            print(total,end=\" \")"
   ]
  },
  {
   "cell_type": "code",
   "execution_count": 3,
   "id": "4a3eeb73",
   "metadata": {},
   "outputs": [
    {
     "name": "stdout",
     "output_type": "stream",
     "text": [
      "Number: 5\n",
      "0 1 1 2 3 "
     ]
    }
   ],
   "source": [
    "n = int(input(\"Number: \"))\n",
    "fibonacci(n)"
   ]
  },
  {
   "cell_type": "markdown",
   "id": "d318ef14",
   "metadata": {},
   "source": [
    "# Default Parameters"
   ]
  },
  {
   "cell_type": "code",
   "execution_count": 7,
   "id": "7087ab01",
   "metadata": {},
   "outputs": [
    {
     "name": "stdout",
     "output_type": "stream",
     "text": [
      "Name:Shrey\n",
      "Surname:Nike\n",
      "ShreyNike is 15 years old\n",
      "ShreyNike is 20 years old\n"
     ]
    }
   ],
   "source": [
    "def userdetail(name,surname,age = 20):\n",
    "    print(name + surname + \" is \" + str(age) + \" years old\")\n",
    "    \n",
    "name = input(\"Name:\")\n",
    "surname = input(\"Surname:\")\n",
    "age = 15\n",
    "userdetail(name,surname,age)\n",
    "userdetail(name,surname)"
   ]
  },
  {
   "cell_type": "code",
   "execution_count": null,
   "id": "87518af4",
   "metadata": {},
   "outputs": [],
   "source": []
  }
 ],
 "metadata": {
  "kernelspec": {
   "display_name": "Python 3 (ipykernel)",
   "language": "python",
   "name": "python3"
  },
  "language_info": {
   "codemirror_mode": {
    "name": "ipython",
    "version": 3
   },
   "file_extension": ".py",
   "mimetype": "text/x-python",
   "name": "python",
   "nbconvert_exporter": "python",
   "pygments_lexer": "ipython3",
   "version": "3.9.12"
  }
 },
 "nbformat": 4,
 "nbformat_minor": 5
}
