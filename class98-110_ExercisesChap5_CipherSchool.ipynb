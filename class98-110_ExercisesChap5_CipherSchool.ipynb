{
 "cells": [
  {
   "cell_type": "markdown",
   "id": "460b7ce3",
   "metadata": {},
   "source": [
    "# Exercise 1"
   ]
  },
  {
   "cell_type": "code",
   "execution_count": 1,
   "id": "91878c89",
   "metadata": {},
   "outputs": [
    {
     "data": {
      "text/plain": [
       "[0, 1, 4, 9, 16, 25, 36, 49, 64, 81, 100]"
      ]
     },
     "execution_count": 1,
     "metadata": {},
     "output_type": "execute_result"
    }
   ],
   "source": [
    "def square(l):\n",
    "    sq = []\n",
    "    for i in l:\n",
    "        sq.append(i**2)\n",
    "    return sq\n",
    "\n",
    "l1 = list(range(0,11))\n",
    "square(l1)"
   ]
  },
  {
   "cell_type": "markdown",
   "id": "ffbf3cc3",
   "metadata": {},
   "source": [
    "# Exercise 2"
   ]
  },
  {
   "cell_type": "code",
   "execution_count": 4,
   "id": "05a0b857",
   "metadata": {},
   "outputs": [
    {
     "data": {
      "text/plain": [
       "[5, 4, 3, 2, 1]"
      ]
     },
     "execution_count": 4,
     "metadata": {},
     "output_type": "execute_result"
    }
   ],
   "source": [
    "def revlist(l):\n",
    "    l.reverse()\n",
    "    return l\n",
    "\n",
    "l1 = [1,2,3,4,5]\n",
    "revlist(l1)"
   ]
  },
  {
   "cell_type": "markdown",
   "id": "7e9e1f8a",
   "metadata": {},
   "source": [
    "# Exercise 3"
   ]
  },
  {
   "cell_type": "code",
   "execution_count": 6,
   "id": "78404c16",
   "metadata": {},
   "outputs": [
    {
     "data": {
      "text/plain": [
       "['uoY', 'goD', 'tsaL']"
      ]
     },
     "execution_count": 6,
     "metadata": {},
     "output_type": "execute_result"
    }
   ],
   "source": [
    "def revwords(l):\n",
    "    revlist = []\n",
    "    for i in l:\n",
    "        revlist.append(i[::-1])\n",
    "    return revlist\n",
    "\n",
    "strl = [\"You\",\"Dog\",\"Last\"]\n",
    "revwords(strl)"
   ]
  },
  {
   "cell_type": "markdown",
   "id": "a1b795f0",
   "metadata": {},
   "source": [
    "# Exercise 4"
   ]
  },
  {
   "cell_type": "code",
   "execution_count": 7,
   "id": "6bf6cad7",
   "metadata": {},
   "outputs": [
    {
     "data": {
      "text/plain": [
       "[[1, 3, 5, 7], [2, 4, 6]]"
      ]
     },
     "execution_count": 7,
     "metadata": {},
     "output_type": "execute_result"
    }
   ],
   "source": [
    "def oddevenl(l):\n",
    "    oddnums = []\n",
    "    evennums = []\n",
    "    for i in l:\n",
    "        if i%2 == 0:\n",
    "            evennums.append(i)\n",
    "        else:\n",
    "            oddnums.append(i)\n",
    "    \n",
    "    output = [oddnums,evennums]\n",
    "    return output\n",
    "\n",
    "l1 = [1,2,3,4,5,6,7]\n",
    "oddevenl(l1)"
   ]
  },
  {
   "cell_type": "markdown",
   "id": "417a20a2",
   "metadata": {},
   "source": [
    "# Exercise 5"
   ]
  },
  {
   "cell_type": "code",
   "execution_count": 8,
   "id": "765b328a",
   "metadata": {},
   "outputs": [
    {
     "data": {
      "text/plain": [
       "[2, 3, 4]"
      ]
     },
     "execution_count": 8,
     "metadata": {},
     "output_type": "execute_result"
    }
   ],
   "source": [
    "def iscommon(l1,l2):\n",
    "    common = []\n",
    "    for i in l1:\n",
    "        if i in l2:\n",
    "            common.append(i)\n",
    "            \n",
    "    return common\n",
    "\n",
    "l1 = [1,2,3,4,8,9,10]\n",
    "l2 = [5,6,2,3,4]\n",
    "iscommon(l1,l2)"
   ]
  },
  {
   "cell_type": "markdown",
   "id": "6bb807d2",
   "metadata": {},
   "source": [
    "# Exercise 6"
   ]
  },
  {
   "cell_type": "code",
   "execution_count": 11,
   "id": "b9048d1d",
   "metadata": {},
   "outputs": [
    {
     "data": {
      "text/plain": [
       "3"
      ]
     },
     "execution_count": 11,
     "metadata": {},
     "output_type": "execute_result"
    }
   ],
   "source": [
    "def listcounter(l1):\n",
    "    count = 0\n",
    "    for i in l1:\n",
    "        if type(i) == list:\n",
    "            count += 1\n",
    "            \n",
    "    return count\n",
    "\n",
    "l1 = [1,2,3,[1,2,3],[3,5,6],[789]]\n",
    "listcounter(l1)"
   ]
  },
  {
   "cell_type": "code",
   "execution_count": null,
   "id": "aaf1574d",
   "metadata": {},
   "outputs": [],
   "source": []
  }
 ],
 "metadata": {
  "kernelspec": {
   "display_name": "Python 3 (ipykernel)",
   "language": "python",
   "name": "python3"
  },
  "language_info": {
   "codemirror_mode": {
    "name": "ipython",
    "version": 3
   },
   "file_extension": ".py",
   "mimetype": "text/x-python",
   "name": "python",
   "nbconvert_exporter": "python",
   "pygments_lexer": "ipython3",
   "version": "3.9.12"
  }
 },
 "nbformat": 4,
 "nbformat_minor": 5
}
