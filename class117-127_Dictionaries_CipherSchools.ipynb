{
 "cells": [
  {
   "cell_type": "code",
   "execution_count": 2,
   "id": "266ea9e5",
   "metadata": {},
   "outputs": [
    {
     "name": "stdout",
     "output_type": "stream",
     "text": [
      "{'name': 'Shrey', 'age': 24}\n",
      "<class 'dict'>\n"
     ]
    }
   ],
   "source": [
    "user = {\"name\":\"Shrey\",\"age\":24}\n",
    "print(user)\n",
    "print(type(user))"
   ]
  },
  {
   "cell_type": "code",
   "execution_count": 4,
   "id": "b9c28df1",
   "metadata": {},
   "outputs": [
    {
     "name": "stdout",
     "output_type": "stream",
     "text": [
      "24\n"
     ]
    }
   ],
   "source": [
    "user2 = dict(name = \"shrey\",age = 25)\n",
    "print(user[\"age\"])"
   ]
  },
  {
   "cell_type": "code",
   "execution_count": 7,
   "id": "bc06edd6",
   "metadata": {},
   "outputs": [
    {
     "name": "stdout",
     "output_type": "stream",
     "text": [
      "['top gun', 'Ice age']\n"
     ]
    }
   ],
   "source": [
    "userinfo = {\n",
    "    \"name\" : \"Harshit\",\n",
    "    \"age\" : 24,\n",
    "    \"fav_movies\" : [\"top gun\",\"Ice age\"],\n",
    "    \"fav_tunes\" : [\"breathing\",\"Cold\"] \n",
    "}\n",
    "print(userinfo[\"fav_movies\"])"
   ]
  },
  {
   "cell_type": "code",
   "execution_count": 8,
   "id": "0169c2ce",
   "metadata": {},
   "outputs": [
    {
     "name": "stdout",
     "output_type": "stream",
     "text": [
      "Present\n"
     ]
    }
   ],
   "source": [
    "# Dictionaries values can be changed\n",
    "\n",
    "if 'name' in userinfo:\n",
    "    print(\"Present\")"
   ]
  },
  {
   "cell_type": "code",
   "execution_count": 9,
   "id": "dbc621c9",
   "metadata": {},
   "outputs": [
    {
     "name": "stdout",
     "output_type": "stream",
     "text": [
      "Present\n"
     ]
    }
   ],
   "source": [
    "if 'Harshit' in userinfo.values():\n",
    "    print(\"Present\")"
   ]
  },
  {
   "cell_type": "code",
   "execution_count": 10,
   "id": "8bb491af",
   "metadata": {},
   "outputs": [
    {
     "name": "stdout",
     "output_type": "stream",
     "text": [
      "{'name': 'Harshit', 'age': 24, 'fav_movies': ['top gun', 'Ice age'], 'fav_tunes': ['breathing', 'Cold']}\n"
     ]
    }
   ],
   "source": [
    "userinfov = userinfo.values()\n",
    "print(userinfo)"
   ]
  },
  {
   "cell_type": "code",
   "execution_count": 11,
   "id": "c9deca53",
   "metadata": {},
   "outputs": [
    {
     "name": "stdout",
     "output_type": "stream",
     "text": [
      "name\n",
      "age\n",
      "fav_movies\n",
      "fav_tunes\n"
     ]
    }
   ],
   "source": [
    "for i in userinfo:\n",
    "    print(i)"
   ]
  },
  {
   "cell_type": "code",
   "execution_count": 12,
   "id": "38e43487",
   "metadata": {},
   "outputs": [
    {
     "name": "stdout",
     "output_type": "stream",
     "text": [
      "Harshit\n",
      "24\n",
      "['top gun', 'Ice age']\n",
      "['breathing', 'Cold']\n"
     ]
    }
   ],
   "source": [
    "for i in userinfo:\n",
    "    print(userinfo[i])"
   ]
  },
  {
   "cell_type": "code",
   "execution_count": 15,
   "id": "b9062182",
   "metadata": {},
   "outputs": [
    {
     "name": "stdout",
     "output_type": "stream",
     "text": [
      "{'name': 'Harshit', 'age': 24, 'fav_movies': ['top gun', 'Ice age'], 'fav_tunes': ['song1', 'song2']}\n"
     ]
    }
   ],
   "source": [
    "userinfo['fav_tunes']= ['song1','song2']\n",
    "print(userinfo)"
   ]
  },
  {
   "cell_type": "code",
   "execution_count": 16,
   "id": "c8b6fe52",
   "metadata": {},
   "outputs": [
    {
     "name": "stdout",
     "output_type": "stream",
     "text": [
      "{'name': 'Harshit', 'age': 24, 'fav_movies': ['top gun', 'Ice age']}\n"
     ]
    }
   ],
   "source": [
    "userinfo.pop('fav_tunes')\n",
    "print(userinfo)"
   ]
  },
  {
   "cell_type": "code",
   "execution_count": 17,
   "id": "326647e2",
   "metadata": {},
   "outputs": [
    {
     "name": "stdout",
     "output_type": "stream",
     "text": [
      "{'name': 'Harshit', 'age': 24, 'fav_movies': ['top gun', 'Ice age'], 'state': 'Goa', 'Hobbies': ['Coding', 'SPorts']}\n"
     ]
    }
   ],
   "source": [
    "moreinfo = {\"state\":\"Goa\",\"Hobbies\":[\"Coding\",\"SPorts\"]}\n",
    "userinfo.update(moreinfo)\n",
    "\n",
    "print(userinfo)"
   ]
  },
  {
   "cell_type": "code",
   "execution_count": 18,
   "id": "7e7ed95b",
   "metadata": {},
   "outputs": [],
   "source": [
    "# from keys\n",
    "# get method\n",
    "# claer\n",
    "# get"
   ]
  },
  {
   "cell_type": "code",
   "execution_count": 19,
   "id": "adbd8fdb",
   "metadata": {},
   "outputs": [
    {
     "name": "stdout",
     "output_type": "stream",
     "text": [
      "{'name': 'unknown', 'age': 'unknown', 'height': 'unknown'}\n"
     ]
    }
   ],
   "source": [
    "d = {'name':\"unknown\",'age':'unknown'}\n",
    "f = dict.fromkeys(['name','age','height'],'unknown')\n",
    "\n",
    "print(f)"
   ]
  },
  {
   "cell_type": "code",
   "execution_count": 22,
   "id": "15997904",
   "metadata": {},
   "outputs": [
    {
     "name": "stdout",
     "output_type": "stream",
     "text": [
      "Presemt\n"
     ]
    }
   ],
   "source": [
    "if f.get('name'):\n",
    "    print('Presemt')"
   ]
  },
  {
   "cell_type": "code",
   "execution_count": 24,
   "id": "48e88aaf",
   "metadata": {},
   "outputs": [
    {
     "name": "stdout",
     "output_type": "stream",
     "text": [
      "{'name': 'unknown', 'height': 'unknown'}\n",
      "{'name': 'unknown', 'age': 'unknown', 'height': 'unknown'}\n",
      "False\n",
      "False\n"
     ]
    }
   ],
   "source": [
    "f1 = f.copy()\n",
    "f1.pop('age')\n",
    "print(f1)\n",
    "print(f)\n",
    "\n",
    "print(f1 is f)\n",
    "print(f1 == f)"
   ]
  },
  {
   "cell_type": "markdown",
   "id": "985bdc53",
   "metadata": {},
   "source": [
    "# Exercise 1"
   ]
  },
  {
   "cell_type": "code",
   "execution_count": 1,
   "id": "e505cdc4",
   "metadata": {},
   "outputs": [],
   "source": [
    "def cube(n):\n",
    "    cubes = {}\n",
    "    for i in range(1,n+1):\n",
    "        cubes[i] = i**3\n",
    "    return cubes"
   ]
  },
  {
   "cell_type": "code",
   "execution_count": 2,
   "id": "a8a81909",
   "metadata": {},
   "outputs": [
    {
     "name": "stdout",
     "output_type": "stream",
     "text": [
      "{1: 1, 2: 8, 3: 27, 4: 64, 5: 125}\n"
     ]
    }
   ],
   "source": [
    "print(cube(5))"
   ]
  },
  {
   "cell_type": "markdown",
   "id": "feb3b3d5",
   "metadata": {},
   "source": [
    "# Word Counter"
   ]
  },
  {
   "cell_type": "code",
   "execution_count": 3,
   "id": "a1f46064",
   "metadata": {},
   "outputs": [],
   "source": [
    "def word_counter(s):\n",
    "    count = {}\n",
    "    for char in s:\n",
    "        count[char] = s.count(char)\n",
    "    return count"
   ]
  },
  {
   "cell_type": "code",
   "execution_count": 4,
   "id": "618307e2",
   "metadata": {},
   "outputs": [
    {
     "name": "stdout",
     "output_type": "stream",
     "text": [
      "{'S': 1, 'h': 1, 'r': 1, 'e': 1, 'y': 1, 'a': 1, 's': 1}\n"
     ]
    }
   ],
   "source": [
    "print(word_counter(\"Shreyas\"))"
   ]
  },
  {
   "cell_type": "markdown",
   "id": "a76ce206",
   "metadata": {},
   "source": [
    "# Exercise 2"
   ]
  },
  {
   "cell_type": "code",
   "execution_count": 5,
   "id": "85a2291a",
   "metadata": {},
   "outputs": [
    {
     "name": "stdout",
     "output_type": "stream",
     "text": [
      "What is your name : Shrey\n",
      "Enter your age : 18\n",
      "Enter the name of your fav mvoies separated by ,yep,dope\n",
      "Enter the name of your fav songs separated by ,love,birds\n",
      "{'name': 'Shrey', 'age': 18, 'movies': ['yep', 'dope'], 'songs': ['love', 'birds']}\n"
     ]
    }
   ],
   "source": [
    "user5 = {}\n",
    "\n",
    "name = input(\"What is your name : \")\n",
    "age = int(input(\"Enter your age : \"))\n",
    "movies = input(\"Enter the name of your fav mvoies separated by ,:\").split(\",\")\n",
    "songs = input(\"Enter the name of your fav songs separated by ,:\").split(\",\")\n",
    "\n",
    "user5['name'] = name\n",
    "user5['age'] = age\n",
    "user5['movies'] = movies\n",
    "user5['songs'] = songs\n",
    "\n",
    "print(user5)\n"
   ]
  },
  {
   "cell_type": "code",
   "execution_count": null,
   "id": "9a39e5b0",
   "metadata": {},
   "outputs": [],
   "source": []
  }
 ],
 "metadata": {
  "kernelspec": {
   "display_name": "Python 3 (ipykernel)",
   "language": "python",
   "name": "python3"
  },
  "language_info": {
   "codemirror_mode": {
    "name": "ipython",
    "version": 3
   },
   "file_extension": ".py",
   "mimetype": "text/x-python",
   "name": "python",
   "nbconvert_exporter": "python",
   "pygments_lexer": "ipython3",
   "version": "3.9.12"
  }
 },
 "nbformat": 4,
 "nbformat_minor": 5
}
